{
  "nbformat": 4,
  "nbformat_minor": 0,
  "metadata": {
    "colab": {
      "provenance": []
    },
    "kernelspec": {
      "name": "python3",
      "display_name": "Python 3"
    },
    "language_info": {
      "name": "python"
    }
  },
  "cells": [
    {
      "cell_type": "markdown",
      "source": [
        "# Step 1: Import Libraries and Data"
      ],
      "metadata": {
        "id": "md5SF7U1pFh5"
      }
    },
    {
      "cell_type": "code",
      "source": [
        "from keras.layers import Input, Dense\n",
        "from keras.models import Model\n",
        "from keras.datasets import mnist\n",
        "\n",
        "import numpy as np\n",
        "import matplotlib.pyplot as plt\n",
        "\n",
        "from tensorflow.keras.datasets import mnist"
      ],
      "metadata": {
        "id": "CYRm0Xn5pIKA"
      },
      "execution_count": null,
      "outputs": []
    },
    {
      "cell_type": "code",
      "source": [
        "(trainX, trainY), (testX, testY) = mnist.load_data()"
      ],
      "metadata": {
        "colab": {
          "base_uri": "https://localhost:8080/"
        },
        "id": "R3BpUvsZpR7T",
        "outputId": "198a0407-9b30-4df5-9bb3-645a7be3120d"
      },
      "execution_count": null,
      "outputs": [
        {
          "output_type": "stream",
          "name": "stdout",
          "text": [
            "Downloading data from https://storage.googleapis.com/tensorflow/tf-keras-datasets/mnist.npz\n",
            "11490434/11490434 [==============================] - 1s 0us/step\n"
          ]
        }
      ]
    },
    {
      "cell_type": "markdown",
      "source": [
        "# Step 2: Process Data"
      ],
      "metadata": {
        "id": "CvMx4AOkpiAo"
      }
    },
    {
      "cell_type": "code",
      "source": [
        "#normalization\n",
        "trainX = trainX.astype('float32')\n",
        "testX = testX.astype('float32')\n",
        "\n",
        "trainX /= 255.0\n",
        "testX /= 255.0"
      ],
      "metadata": {
        "id": "WQwhzg1rpZAi"
      },
      "execution_count": null,
      "outputs": []
    },
    {
      "cell_type": "code",
      "source": [
        "trainX_noisy = trainX + 0.25 * np.random.normal(size=trainX.shape)\n",
        "testX_noisy = testX + 0.25 * np.random.normal(size=testX.shape)"
      ],
      "metadata": {
        "id": "LMGeM3_jpgpJ"
      },
      "execution_count": null,
      "outputs": []
    },
    {
      "cell_type": "code",
      "source": [
        "trainX_noisy = np.clip(trainX_noisy, 0., 1.)"
      ],
      "metadata": {
        "id": "JbcLh2qrptVy"
      },
      "execution_count": null,
      "outputs": []
    },
    {
      "cell_type": "code",
      "source": [
        "trainX = trainX.reshape((60000, 784))\n",
        "testX = testX.reshape((10000, 784))\n",
        "\n",
        "trainX_noisy = trainX_noisy.reshape((60000, 784))\n",
        "testX_noisy = testX_noisy.reshape((10000, 784))"
      ],
      "metadata": {
        "id": "IE0guM_Cp9Fh"
      },
      "execution_count": null,
      "outputs": []
    },
    {
      "cell_type": "markdown",
      "source": [
        "# Step 3: Model Training"
      ],
      "metadata": {
        "id": "M-NcL8MnqK08"
      }
    },
    {
      "cell_type": "code",
      "source": [
        "INPUT_SIZE = trainX.shape[1]\n",
        "CODE_SIZE = 32\n",
        "\n",
        "# Create Model\n",
        "input_img = Input(shape=(INPUT_SIZE,))  # Input Layer\n",
        "\n",
        "encoded1 = Dense(128, activation='relu')(input_img) # 1st Hidden Layer in the Encoder's Section\n",
        "encoded2 = Dense(64, activation='relu')(encoded1) # 2nd Hidden Layer in the Encoder's Section\n",
        "\n",
        "encoded4 = Dense(CODE_SIZE, activation='relu')(encoded2) # Bottleneck\n",
        "\n",
        "decoded1 = Dense(128, activation='relu')(encoded4) # 1st Hidden Layer in the Decoder's Section\n",
        "decoded2 = Dense(256, activation='relu')(decoded1) # 2nd Hidden Layer in the Decoder's Section\n",
        "decoded3 = Dense(512, activation='relu')(decoded2) # 3rd Hidden Layer in the Decoder's Section\n",
        "\n",
        "decoded4 = Dense(INPUT_SIZE, activation='relu')(decoded3) # Output Layer\n",
        "\n",
        "autoencoder = Model(input_img, decoded4) # AE Model\n",
        "encoder = Model(input_img,encoded4) # Encoder Model\n",
        "\n",
        "# Compile the AE Model\n",
        "autoencoder.compile(optimizer='adam', loss='mean_squared_error')\n",
        "\n",
        "# Fit the AE Model\n",
        "autoencoder.fit(trainX_noisy, trainX, epochs=25, batch_size=256, shuffle=True, validation_split=0.2, verbose=0)"
      ],
      "metadata": {
        "colab": {
          "base_uri": "https://localhost:8080/"
        },
        "id": "oPdRyMe0qNzt",
        "outputId": "122ea1a7-a28d-411b-9cee-48c0ed88899c"
      },
      "execution_count": null,
      "outputs": [
        {
          "output_type": "execute_result",
          "data": {
            "text/plain": [
              "<keras.callbacks.History at 0x7fac6dc72070>"
            ]
          },
          "metadata": {},
          "execution_count": 10
        }
      ]
    },
    {
      "cell_type": "markdown",
      "source": [
        "Step 4: Apply the Model"
      ],
      "metadata": {
        "id": "3Z9xlRrLszJ5"
      }
    },
    {
      "cell_type": "code",
      "source": [
        "reconstructed_imgs = autoencoder.predict(testX_noisy)\n",
        "\n",
        "plt.figure(figsize=(20, 4))\n",
        "for i in range(10):\n",
        "    # original\n",
        "    plt.subplot(2, 10, i + 1)\n",
        "    plt.imshow(testX[i].reshape(28, 28))\n",
        "    plt.gray()\n",
        "    plt.axis('off')\n",
        "\n",
        "    # reconstruction\n",
        "    plt.subplot(2, 10, i + 1 + 10)\n",
        "    plt.imshow(reconstructed_imgs[i].reshape(28, 28))\n",
        "    plt.gray()\n",
        "    plt.axis('off')\n",
        "\n",
        "plt.tight_layout()\n",
        "plt.show()"
      ],
      "metadata": {
        "colab": {
          "base_uri": "https://localhost:8080/",
          "height": 379
        },
        "id": "y5BDll4lrrxr",
        "outputId": "f59cd5a5-a96e-40b2-d350-61ee4df852a8"
      },
      "execution_count": null,
      "outputs": [
        {
          "output_type": "stream",
          "name": "stdout",
          "text": [
            "313/313 [==============================] - 2s 4ms/step\n"
          ]
        },
        {
          "output_type": "display_data",
          "data": {
            "text/plain": [
              "<Figure size 2000x400 with 20 Axes>"
            ],
            "image/png": "[encoded data removed]"
          },
          "metadata": {}
        }
      ]
    },
    {
      "cell_type": "markdown",
      "source": [
        "The images are a little bit more clearer now."
      ],
      "metadata": {
        "id": "cCMsX05OtNFr"
      }
    }
  ]
}